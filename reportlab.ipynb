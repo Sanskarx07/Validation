{
 "cells": [
  {
   "cell_type": "code",
   "execution_count": 1,
   "metadata": {},
   "outputs": [],
   "source": [
    "from reportlab.lib.pagesizes import letter\n",
    "from reportlab.lib.styles import getSampleStyleSheet, ParagraphStyle\n",
    "from reportlab.lib.units import inch\n",
    "from reportlab.platypus import SimpleDocTemplate, Paragraph, Image, Spacer, ListFlowable, ListItem\n",
    "from reportlab.lib.enums import TA_CENTER, TA_LEFT"
   ]
  },
  {
   "cell_type": "code",
   "execution_count": null,
   "metadata": {},
   "outputs": [],
   "source": [
    "\n",
    "def create_pdf(file_path, content_list, image_paths):\n",
    "    # Create a PDF document\n",
    "    doc = SimpleDocTemplate(file_path, pagesize=letter)\n",
    "    \n",
    "    # Get sample styles\n",
    "    styles = getSampleStyleSheet()\n",
    "    centered_style = ParagraphStyle(name='Centered', parent=styles['BodyText'], alignment=TA_CENTER)\n",
    "    bullet_style = ParagraphStyle(name='Bullet', parent=styles['BodyText'], leftIndent=20, bulletIndent=10, bulletFontName='Helvetica', bulletFontSize=12)\n",
    "    normal_style = styles['BodyText']\n",
    "    \n",
    "    # Container for the 'Flowable' elements\n",
    "    elements = []\n",
    "\n",
    "    for content, image_path in zip(content_list, image_paths):\n",
    "        if isinstance(content, str):\n",
    "            # Add whole paragraph text\n",
    "            elements.append(Paragraph(content, normal_style))\n",
    "        elif isinstance(content, list):\n",
    "            # Add bullet points\n",
    "            bullet_points = [ListItem(Paragraph(item, bullet_style)) for item in content]\n",
    "            elements.append(ListFlowable(bullet_points, bulletType='bullet', start='•'))\n",
    "\n",
    "        elements.append(Spacer(1, 12))\n",
    "\n",
    "        # Add image\n",
    "        img = Image(image_path)\n",
    "        img.drawWidth = 4 * inch\n",
    "        img.drawHeight = 4 * inch\n",
    "        img.hAlign = 'CENTER'\n",
    "        elements.append(img)\n",
    "        elements.append(Spacer(1, 12))\n",
    "\n",
    "    # Build the PDF\n",
    "    doc.build(elements)\n",
    "\n",
    "# Example usage\n",
    "content_list = [\n",
    "    \"This is the first paragraph.\",\n",
    "    [\"First bullet point\", \"Second bullet point\", \"Third bullet point\"],\n",
    "    \"This is the third paragraph.\",\n",
    "    [\"Read daily to expand knowledge and perspectives.\"\n",
    "    \"Practice gratitude to cultivate happiness and appreciation.\",\n",
    "    \"Meditate to reduce stress and improve focus.\",\n",
    "    \"Learn a new skill to challenge yourself and grow.\",\n",
    "    \"Exercise regularly to boost physical and mental well-being.\",\n",
    "    \"Step outside your comfort zone to experience new things and grow.\",\n",
    "    \"Forgive yourself and others to move on and find peace.\",\n",
    "    \"Celebrate your wins to stay motivated and acknowledge progress.\",\n",
    "    \"Learn to say no to protect your time and energy for what matters.\"]\n",
    "]\n",
    "\n",
    "create_pdf(\"output.pdf\", content_list, plots)\n",
    "   \n",
    "\n",
    "\n"
   ]
  }
 ],
 "metadata": {
  "kernelspec": {
   "display_name": "base",
   "language": "python",
   "name": "python3"
  },
  "language_info": {
   "codemirror_mode": {
    "name": "ipython",
    "version": 3
   },
   "file_extension": ".py",
   "mimetype": "text/x-python",
   "name": "python",
   "nbconvert_exporter": "python",
   "pygments_lexer": "ipython3",
   "version": "3.11.5"
  },
  "orig_nbformat": 4
 },
 "nbformat": 4,
 "nbformat_minor": 2
}
